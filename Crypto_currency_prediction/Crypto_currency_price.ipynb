{
 "cells": [
  {
   "cell_type": "markdown",
   "id": "35ffd436",
   "metadata": {},
   "source": [
    "# ARIMA MODEL"
   ]
  },
  {
   "cell_type": "code",
   "execution_count": 2,
   "id": "3091305d",
   "metadata": {},
   "outputs": [
    {
     "data": {
      "application/vnd.jupyter.widget-view+json": {
       "model_id": "92107b7648af4136ada8f9f6e2fcfa92",
       "version_major": 2,
       "version_minor": 0
      },
      "text/plain": [
       "IntSlider(value=8, description='p:', max=25, step=2)"
      ]
     },
     "metadata": {},
     "output_type": "display_data"
    },
    {
     "data": {
      "application/vnd.jupyter.widget-view+json": {
       "model_id": "e41ae9b66258445cac3062a4b3d6b896",
       "version_major": 2,
       "version_minor": 0
      },
      "text/plain": [
       "IntSlider(value=1, description='q:', max=3)"
      ]
     },
     "metadata": {},
     "output_type": "display_data"
    },
    {
     "data": {
      "application/vnd.jupyter.widget-view+json": {
       "model_id": "cddb276f804f404eb17aa55d7ec7aa9f",
       "version_major": 2,
       "version_minor": 0
      },
      "text/plain": [
       "Button(description='Plot Prediction', style=ButtonStyle())"
      ]
     },
     "metadata": {},
     "output_type": "display_data"
    }
   ],
   "source": [
    "import pandas as pd\n",
    "from statsmodels.tsa.arima.model import ARIMA\n",
    "import ipywidgets as widgets\n",
    "#from IPython.display import display\n",
    "import matplotlib.pyplot as plt\n",
    "\n",
    "# Load data\n",
    "data = pd.read_csv(r\"E:\\Projects\\Crypto_currency_prediction\\BTC-INR.csv\")\n",
    "data['Date'] = pd.to_datetime(data['Date'])\n",
    "data.set_index('Date', inplace=True)\n",
    "data.index = data.index.tz_localize(\"UTC\").tz_convert(\"Asia/Kolkata\")\n",
    "data = data.drop(columns=['Open', 'High', 'Low', \"Close\", 'Volume'])\n",
    "\n",
    "cutoff_test = int(len(data) * 0.95)\n",
    "y_train = data.loc['2022-12-21':'2023-10-31']\n",
    "y_test = data.loc['2023-11-01':]\n",
    "y_test_actual = y_test['Adj Close'].copy()\n",
    "\n",
    "p_widget = widgets.IntSlider(min=0, max=25, step=2, value=8, description='p:')\n",
    "q_widget = widgets.IntSlider(min=0, max=3, step=1, value=1, description='q:')\n",
    "plot_button = widgets.Button(description=\"Plot Prediction\")\n",
    "\n",
    "# Define function for button click event\n",
    "def plot_prediction(b):\n",
    "    y_pred_wfv = pd.Series(name='series')\n",
    "    history = y_train['Adj Close'].copy()\n",
    "\n",
    "    for i in range(len(y_test)):\n",
    "        model = ARIMA(history, order=(p_widget.value, 0, q_widget.value)).fit() \n",
    "        next_pred = model.forecast(steps=1) \n",
    "        next_pred_series = pd.Series(next_pred, index=[y_test.index[i]])\n",
    "        next_pred_series.name = 'series'\n",
    "        y_pred_wfv = y_pred_wfv.append(next_pred_series)\n",
    "        history = history.append(pd.Series(y_test_actual.iloc[i], index=[y_test.index[i]]))  # Append as a Series\n",
    "\n",
    "    date_range = y_test.index\n",
    "    model_predictions = y_pred_wfv.values\n",
    "    testing_data = y_test_actual.values\n",
    "\n",
    "    with plt.style.context('seaborn'):\n",
    "        plt.figure(figsize=(15, 9))\n",
    "        plt.grid(True)\n",
    "\n",
    "        plt.plot(date_range, model_predictions, color='blue', marker='o', linestyle='dashed', label='BTC Predicted Price')\n",
    "        plt.plot(date_range, testing_data, color='red', label='BTC Actual Price')\n",
    "\n",
    "        plt.title('Bitcoin Price Prediction')\n",
    "        plt.xlabel('Date')\n",
    "        plt.ylabel('Price')\n",
    "        plt.legend()\n",
    "        plt.show()\n",
    "\n",
    "plot_button.on_click(plot_prediction)\n",
    "p_widget.observe(plot_prediction, names='value')\n",
    "q_widget.observe(plot_prediction, names='value')\n",
    "display(p_widget)\n",
    "display(q_widget)\n",
    "display(plot_button)"
   ]
  },
  {
   "cell_type": "code",
   "execution_count": 3,
   "id": "a0e23d2c",
   "metadata": {},
   "outputs": [
    {
     "ename": "SyntaxError",
     "evalue": "invalid syntax (2178525559.py, line 1)",
     "output_type": "error",
     "traceback": [
      "\u001b[1;36m  File \u001b[1;32m\"C:\\Users\\Kaarvin\\AppData\\Local\\Temp\\ipykernel_1236\\2178525559.py\"\u001b[1;36m, line \u001b[1;32m1\u001b[0m\n\u001b[1;33m    p=\u001b[0m\n\u001b[1;37m      ^\u001b[0m\n\u001b[1;31mSyntaxError\u001b[0m\u001b[1;31m:\u001b[0m invalid syntax\n"
     ]
    }
   ],
   "source": [
    "p=\n",
    "q=\n",
    "model = ARIMA(history, order=(p,0,q)).fit()\n",
    "next_day_forecast = model.forecast(steps=1)\n",
    "print(\"Forecasted value for the next day:\", next_day_forecast)\n"
   ]
  },
  {
   "cell_type": "code",
   "execution_count": null,
   "id": "f03b626a",
   "metadata": {},
   "outputs": [],
   "source": []
  },
  {
   "cell_type": "code",
   "execution_count": null,
   "id": "0b721077",
   "metadata": {},
   "outputs": [],
   "source": []
  }
 ],
 "metadata": {
  "kernelspec": {
   "display_name": "Python 3 (ipykernel)",
   "language": "python",
   "name": "python3"
  },
  "language_info": {
   "codemirror_mode": {
    "name": "ipython",
    "version": 3
   },
   "file_extension": ".py",
   "mimetype": "text/x-python",
   "name": "python",
   "nbconvert_exporter": "python",
   "pygments_lexer": "ipython3",
   "version": "3.12.3"
  }
 },
 "nbformat": 4,
 "nbformat_minor": 5
}
